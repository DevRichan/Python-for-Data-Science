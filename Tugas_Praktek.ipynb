{
  "nbformat": 4,
  "nbformat_minor": 0,
  "metadata": {
    "colab": {
      "name": "Tugas Praktek.ipynb",
      "provenance": [],
      "authorship_tag": "ABX9TyOrFpXjrxnQYm0oan1EpiYt",
      "include_colab_link": true
    },
    "kernelspec": {
      "name": "python3",
      "display_name": "Python 3"
    }
  },
  "cells": [
    {
      "cell_type": "markdown",
      "metadata": {
        "id": "view-in-github",
        "colab_type": "text"
      },
      "source": [
        "<a href=\"https://colab.research.google.com/github/DevRichan/Python-for-Data-Science/blob/master/Tugas_Praktek.ipynb\" target=\"_parent\"><img src=\"https://colab.research.google.com/assets/colab-badge.svg\" alt=\"Open In Colab\"/></a>"
      ]
    },
    {
      "cell_type": "markdown",
      "metadata": {
        "id": "3YaY2TkmVRuK",
        "colab_type": "text"
      },
      "source": [
        "**1. praktek 1**"
      ]
    },
    {
      "cell_type": "code",
      "metadata": {
        "id": "uP9Stb50VE-h",
        "colab_type": "code",
        "colab": {}
      },
      "source": [
        "sepatu = { \"nama\" : \"Sepatu Niko\", \"harga\": 150000, \"diskon\": 30000 }\n",
        "baju = { \"nama\" : \"Baju Unikloh\", \"harga\": 80000, \"diskon\": 8000 }\n",
        "celana = { \"nama\" : \"Celana Lepis\", \"harga\": 200000, \"diskon\": 60000 }\n",
        "harga_sepatu = sepatu[\"harga\"] - sepatu[\"diskon\"]\n",
        "harga_baju = baju[\"harga\"] - baju[\"diskon\"]\n",
        "harga_celana = celana[\"harga\"] - celana[\"diskon\"]\n",
        "total_harga = (harga_sepatu + harga_baju + harga_celana) * 1.1 \n",
        "print(total_harga)"
      ],
      "execution_count": null,
      "outputs": []
    },
    {
      "cell_type": "markdown",
      "metadata": {
        "id": "T_l6vBl5VZ2O",
        "colab_type": "text"
      },
      "source": [
        "**2. praktek 2**"
      ]
    },
    {
      "cell_type": "code",
      "metadata": {
        "id": "dASWXE97VvCI",
        "colab_type": "code",
        "colab": {}
      },
      "source": [
        "# Statement if\n",
        "x = 4\n",
        "if x % 2 == 0: # jika sisa bagi x dengan 2 sama dengan 0\n",
        "    print(\"x habis dibagi dua\") # statemen aksi lebih menjorok ke dalam\n",
        "# Statement if ... elif ... else\n",
        "x = 7\n",
        "if x % 2 == 0: # jika sisa bagi x dengan 2 sama dengan 0\n",
        "    print(\"x habis dibagi dua\")\n",
        "elif x % 3 == 0: # jika sisa bagi x dengan 3 sama dengan 0\n",
        "    print(\"x habis dibagi tiga\")\n",
        "elif x % 5 == 0: # jika sisa bagi x dengan 5 sama dengan 0\n",
        "    print(\"x habis dibagi lima\")\n",
        "else:\n",
        "    print(\"x tidak habis dibagi dua, tiga ataupun lima\")"
      ],
      "execution_count": null,
      "outputs": []
    },
    {
      "cell_type": "markdown",
      "metadata": {
        "id": "EYnu9GRDYGle",
        "colab_type": "text"
      },
      "source": [
        "**3. praktek 3**"
      ]
    },
    {
      "cell_type": "code",
      "metadata": {
        "id": "RfVIsnwSYJCN",
        "colab_type": "code",
        "colab": {}
      },
      "source": [
        "jam = 17\n",
        "tagihan_ke = 'Mr. Yoyo'\n",
        "warehousing = { 'harga_harian': 1000000, 'total_hari':15 } \n",
        "cleansing = { 'harga_harian': 1500000, 'total_hari':10 } \n",
        "integration = { 'harga_harian':2000000, 'total_hari':15 } \n",
        "transform = { 'harga_harian':2500000, 'total_hari':10 }\n",
        "sub_warehousing = warehousing['harga_harian']*warehousing['total_hari'] \n",
        "sub_cleansing = cleansing['harga_harian']*cleansing['total_hari'] \n",
        "sub_integration = integration['harga_harian']*integration['total_hari'] \n",
        "sub_transform = transform['harga_harian']*transform['total_hari']\n",
        "total_harga = sub_warehousing+sub_cleansing+sub_integration+sub_transform\n",
        "print(\"Tagihan kepada:\")\n",
        "print(tagihan_ke)\n",
        "if jam > 19 :\n",
        "    print(\"Selamat malam, anda harus membayar tagihan sebesar:\")\n",
        "elif jam > 17:\n",
        "    print(\"Selamat sore, anda harus membayar tagihan sebesar:\") \n",
        "elif jam > 12:\n",
        "    print(\"Selamat siang, anda harus membayar tagihan sebesar:\")\n",
        "else:\n",
        "    print(\"Selamat pagi, anda harus membayar tagihan sebesar:\") \n",
        "print(total_harga)"
      ],
      "execution_count": null,
      "outputs": []
    },
    {
      "cell_type": "markdown",
      "metadata": {
        "id": "blyeOds86Psz",
        "colab_type": "text"
      },
      "source": [
        "**4. Praktek 4**"
      ]
    },
    {
      "cell_type": "code",
      "metadata": {
        "id": "9cHAgvA36SDY",
        "colab_type": "code",
        "colab": {
          "base_uri": "https://localhost:8080/",
          "height": 52
        },
        "outputId": "3628d8aa-faf3-472f-eef7-28b905fff1b6"
      },
      "source": [
        "list_cash_flow = [\n",
        "2500000, 5000000, -1000000, -2500000, 5000000, 10000000,\n",
        "-5000000, 7500000, 10000000, -1500000, 25000000, -2500000\n",
        "]\n",
        "\n",
        "total_pemasukan = 0\n",
        "total_pengeluaran = 0\n",
        "\n",
        "for dana in list_cash_flow:\n",
        "  if dana > 0 :\n",
        "    total_pemasukan += dana\n",
        "  else:\n",
        "    total_pengeluaran += dana\n",
        "\n",
        "total_p = total_pengeluaran * -1\n",
        "print(total_pemasukan)\n",
        "print(total_p) "
      ],
      "execution_count": null,
      "outputs": [
        {
          "output_type": "stream",
          "text": [
            "65000000\n",
            "12500000\n"
          ],
          "name": "stdout"
        }
      ]
    },
    {
      "cell_type": "markdown",
      "metadata": {
        "id": "rKPCjdPI7v-J",
        "colab_type": "text"
      },
      "source": [
        "**5. Praktek 5**"
      ]
    },
    {
      "cell_type": "code",
      "metadata": {
        "id": "Gyw96lBD7ySY",
        "colab_type": "code",
        "colab": {
          "base_uri": "https://localhost:8080/",
          "height": 105
        },
        "outputId": "e66c8094-2a8d-44d4-dc2a-c087c10f3d4a"
      },
      "source": [
        "uang_jalan = 1500000\n",
        "jumlah_hari = 31\n",
        "list_plat_nomor = [8993, 2198, 2501, 2735, 3772, 4837, 9152]\n",
        "list_ganjil = 0\n",
        "list_genap = 0\n",
        "\n",
        "#hitung plat ganjil dan genap\n",
        "\n",
        "for plt in list_plat_nomor:\n",
        "  if plt % 2 == 0:\n",
        "    list_genap += 1\n",
        "  else:\n",
        "    list_ganjil += 1   \n",
        "\n",
        "i = 1\n",
        "jumlah_tagihan_ganjil = 0\n",
        "jumlah_tagihan_genap = 0\n",
        "total_tagihan = 0\n",
        "while i <= jumlah_hari:\n",
        "  if i % 2 == 0 :\n",
        "    jumlah_tagihan_genap += (uang_jalan * list_genap) \n",
        "  else:\n",
        "    jumlah_tagihan_ganjil += (uang_jalan * list_ganjil)\n",
        "  i=i+1\n",
        "\n",
        "print(\"Jumlah plat nomor genap = \", list_genap)\n",
        "print(\"Jumlah plat nomor ganjil = \",list_ganjil)\n",
        "print(\"Jumlah tagihan genap = \", jumlah_tagihan_genap)\n",
        "print(\"Jumlah tagihan ganjil = \", jumlah_tagihan_ganjil)\n",
        "print(\"Total tagihan = \", jumlah_tagihan_ganjil + jumlah_tagihan_genap)\n",
        "\n"
      ],
      "execution_count": 7,
      "outputs": [
        {
          "output_type": "stream",
          "text": [
            "Jumlah plat nomor genap =  3\n",
            "Jumlah plat nomor ganjil =  4\n",
            "Jumlah tagihan genap =  67500000\n",
            "Jumlah tagihan ganjil =  96000000\n",
            "Total tagihan =  163500000\n"
          ],
          "name": "stdout"
        }
      ]
    }
  ]
}
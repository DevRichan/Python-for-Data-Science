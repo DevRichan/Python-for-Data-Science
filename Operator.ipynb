{
  "nbformat": 4,
  "nbformat_minor": 0,
  "metadata": {
    "colab": {
      "name": "Operator.ipynb",
      "provenance": [],
      "collapsed_sections": [],
      "authorship_tag": "ABX9TyO8vB42xDgpS+tIcv1/o7Ny",
      "include_colab_link": true
    },
    "kernelspec": {
      "name": "python3",
      "display_name": "Python 3"
    }
  },
  "cells": [
    {
      "cell_type": "markdown",
      "metadata": {
        "id": "view-in-github",
        "colab_type": "text"
      },
      "source": [
        "<a href=\"https://colab.research.google.com/github/DevRichan/Python-for-Data-Science/blob/master/Operator.ipynb\" target=\"_parent\"><img src=\"https://colab.research.google.com/assets/colab-badge.svg\" alt=\"Open In Colab\"/></a>"
      ]
    },
    {
      "cell_type": "markdown",
      "metadata": {
        "id": "1Yv_Q4q4J9xF",
        "colab_type": "text"
      },
      "source": [
        "**1. OPERATOR**"
      ]
    },
    {
      "cell_type": "code",
      "metadata": {
        "id": "QVRgU8KiJtog",
        "colab_type": "code",
        "colab": {
          "base_uri": "https://localhost:8080/",
          "height": 105
        },
        "outputId": "d7f57e09-f74e-4e34-9527-704d0aa647d4"
      },
      "source": [
        " #Pangkat\n",
        " pangkat = 3**2\n",
        " print(pangkat)\n",
        "\n",
        " #Pembagian\n",
        " pembagian = 3/2\n",
        " pembagian_pembulatan_kebawah = 3//2\n",
        " print(pembagian)\n",
        " print(pembagian_pembulatan_kebawah)\n",
        "\n",
        " #Modulo\n",
        " mod = 8 % 2\n",
        " mod2 = 3 % 2\n",
        " print(mod)\n",
        " print(mod2)"
      ],
      "execution_count": 4,
      "outputs": [
        {
          "output_type": "stream",
          "text": [
            "9\n",
            "1.5\n",
            "1\n",
            "0\n",
            "1\n"
          ],
          "name": "stdout"
        }
      ]
    },
    {
      "cell_type": "markdown",
      "metadata": {
        "id": "HWIufim1K8kh",
        "colab_type": "text"
      },
      "source": [
        "**2. LOOP OPERATOR**"
      ]
    },
    {
      "cell_type": "code",
      "metadata": {
        "id": "sIrjzGdqLC2Z",
        "colab_type": "code",
        "colab": {
          "base_uri": "https://localhost:8080/",
          "height": 70
        },
        "outputId": "713ce05c-6452-4bd2-a1f3-c5edcb43a9f5"
      },
      "source": [
        "myList = [10,20,30,10]\n",
        "\n",
        "total = 0\n",
        "#penambahan\n",
        "for pnb in myList:\n",
        "  total += pnb\n",
        "print(total)\n",
        "\n",
        "total2 = 0\n",
        "#pengurangan\n",
        "for png in myList:\n",
        "  total2 -= png\n",
        "print(total2)\n",
        "\n",
        "total3 = 1 \n",
        "#perkalian\n",
        "for pkl in myList:\n",
        "  total3 *= pkl\n",
        "print(total3)\n",
        "\n",
        "# other operator\n",
        "# /=\n",
        "# //=\n",
        "# %=\n",
        "# **="
      ],
      "execution_count": 13,
      "outputs": [
        {
          "output_type": "stream",
          "text": [
            "70\n",
            "-70\n",
            "60000\n"
          ],
          "name": "stdout"
        }
      ]
    },
    {
      "cell_type": "markdown",
      "metadata": {
        "id": "xamORqpNQWAi",
        "colab_type": "text"
      },
      "source": [
        "**3. Identity Operator**\n"
      ]
    },
    {
      "cell_type": "code",
      "metadata": {
        "id": "E4nr2KEsQbFE",
        "colab_type": "code",
        "colab": {
          "base_uri": "https://localhost:8080/",
          "height": 141
        },
        "outputId": "15b954ba-71f4-4dd0-9864-68468fc257e6"
      },
      "source": [
        "# is (Menerima dua buah objek dan mengembalikan nilai True ketika keduanya merujuk pada objek yang sama dan False dalam kondisi lainnya)\n",
        "# is not (kebalikan)\n",
        "x = [\"Ricki\",\"Chandra\"]\n",
        "y = [\"Ricki\",\"Chandra\"] \n",
        "a = x\n",
        "print (x is a)\n",
        "print (x is y)\n",
        "print (x is not a)\n",
        "print (x is not y)\n",
        "# biasa digunakan dengan fungsi type\n",
        "x2 = 10\n",
        "print(type(x2) is int)\n",
        "\n",
        "\n",
        "# in\n",
        "# not in\n",
        "xx = [\"Ricki\",\"Chandra\",\"Hidayatullah\"]\n",
        "yy = \"Ricki\"\n",
        "zz = \"Palaguna\"\n",
        "\n",
        "print(yy in xx)\n",
        "print(zz in xx)\n",
        "\n",
        "\n",
        "\n",
        "\n",
        "\n"
      ],
      "execution_count": 32,
      "outputs": [
        {
          "output_type": "stream",
          "text": [
            "True\n",
            "False\n",
            "False\n",
            "True\n",
            "True\n",
            "True\n",
            "False\n"
          ],
          "name": "stdout"
        }
      ]
    }
  ]
}
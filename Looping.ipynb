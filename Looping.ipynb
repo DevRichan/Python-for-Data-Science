{
  "nbformat": 4,
  "nbformat_minor": 0,
  "metadata": {
    "colab": {
      "name": "Looping.ipynb",
      "provenance": [],
      "authorship_tag": "ABX9TyN5YPuO5DdcHRvRJ1YgnaFv",
      "include_colab_link": true
    },
    "kernelspec": {
      "name": "python3",
      "display_name": "Python 3"
    }
  },
  "cells": [
    {
      "cell_type": "markdown",
      "metadata": {
        "id": "view-in-github",
        "colab_type": "text"
      },
      "source": [
        "<a href=\"https://colab.research.google.com/github/DevRichan/Python-for-Data-Science/blob/master/Looping.ipynb\" target=\"_parent\"><img src=\"https://colab.research.google.com/assets/colab-badge.svg\" alt=\"Open In Colab\"/></a>"
      ]
    },
    {
      "cell_type": "code",
      "metadata": {
        "id": "h68HcfYNZGW8",
        "colab_type": "code",
        "colab": {
          "base_uri": "https://localhost:8080/",
          "height": 34
        },
        "outputId": "696d827b-9790-423e-b377-27f86047c264"
      },
      "source": [
        "tagihan = [50000, 75000, 125000, 300000, 200000]\n",
        "total_tagihan = tagihan[0] + tagihan[1] + tagihan[2] + tagihan[3] + tagihan[4]\n",
        "print(total_tagihan)"
      ],
      "execution_count": null,
      "outputs": [
        {
          "output_type": "stream",
          "text": [
            "750000\n"
          ],
          "name": "stdout"
        }
      ]
    },
    {
      "cell_type": "markdown",
      "metadata": {
        "id": "Wog4M0lfZMDf",
        "colab_type": "text"
      },
      "source": [
        "**1. While Loops**"
      ]
    },
    {
      "cell_type": "code",
      "metadata": {
        "id": "U05nRHAvZlAC",
        "colab_type": "code",
        "colab": {
          "base_uri": "https://localhost:8080/",
          "height": 34
        },
        "outputId": "d7ced27f-3344-4aa0-8037-946adc7061ce"
      },
      "source": [
        " i = 0\n",
        " total_tagihan2 = 0\n",
        " iterasi = len(tagihan)\n",
        " while i < iterasi:\n",
        "   total_tagihan2 += tagihan[i]\n",
        "   i+=1\n",
        "print(total_tagihan2)"
      ],
      "execution_count": null,
      "outputs": [
        {
          "output_type": "stream",
          "text": [
            "750000\n"
          ],
          "name": "stdout"
        }
      ]
    },
    {
      "cell_type": "code",
      "metadata": {
        "id": "ikpoCm2kadSW",
        "colab_type": "code",
        "colab": {
          "base_uri": "https://localhost:8080/",
          "height": 34
        },
        "outputId": "2788754d-fccb-4739-d294-01aa19283c16"
      },
      "source": [
        "#dihentikan jika ada angka minus\n",
        "tagihan3 = [50000, 75000, -150000, 125000, 300000, -50000, 200000]\n",
        "i = 0\n",
        "it = len(tagihan3)\n",
        "total_tagihan3 = 0\n",
        "\n",
        "while i < it:\n",
        "  if (tagihan3[i] >= 0):\n",
        "    total_tagihan3 += tagihan3[i]\n",
        "  else:\n",
        "    total_tagihan3 = total_tagihan3\n",
        "  i +=1\n",
        "\n",
        "print(total_tagihan3)\n",
        "\n",
        "# Break condition\n",
        "# #dihentikan jika ada angka minus\n",
        "# tagihan3 = [50000, 75000, -150000, 125000, 300000, -50000, 200000]\n",
        "# i = 0\n",
        "# it = len(tagihan3)\n",
        "# total_tagihan3 = 0\n",
        "\n",
        "# while i < it:\n",
        "#   if tagihan2[i] < 0:\n",
        "#     total_tagihan3 = -1\n",
        "#     print(\"Terdapat angka minus\")\n",
        "#     break\n",
        "#   total_tagihan3 += tagihan3[i]\n",
        "#   i+=1\n",
        "# print(total_tagihan3)\n",
        "\n"
      ],
      "execution_count": null,
      "outputs": [
        {
          "output_type": "stream",
          "text": [
            "750000\n"
          ],
          "name": "stdout"
        }
      ]
    },
    {
      "cell_type": "code",
      "metadata": {
        "id": "AQ4R7mgkgrXT",
        "colab_type": "code",
        "colab": {
          "base_uri": "https://localhost:8080/",
          "height": 34
        },
        "outputId": "7a06bc5a-7acb-4813-83b9-5785bed0c387"
      },
      "source": [
        "tagihan = [50000, 75000, -150000, 125000, 300000, -50000, 200000]\n",
        "i = 0\n",
        "jumlah_tagihan = len(tagihan)\n",
        "total_tagihan = 0\n",
        "while i < jumlah_tagihan:\n",
        "  if tagihan[i] < 0:\n",
        "    i=i+1\n",
        "    continue\n",
        "  total_tagihan += tagihan[i]\n",
        "  i+=1\n",
        "print(total_tagihan)"
      ],
      "execution_count": null,
      "outputs": [
        {
          "output_type": "stream",
          "text": [
            "750000\n"
          ],
          "name": "stdout"
        }
      ]
    },
    {
      "cell_type": "markdown",
      "metadata": {
        "id": "zwa6IQ2oaLWe",
        "colab_type": "text"
      },
      "source": [
        "**2. FOR LOOPS**"
      ]
    },
    {
      "cell_type": "code",
      "metadata": {
        "id": "dtkphj9F4XIZ",
        "colab_type": "code",
        "colab": {
          "base_uri": "https://localhost:8080/",
          "height": 34
        },
        "outputId": "aab41e81-33d7-4ad8-adb7-d38a9c555405"
      },
      "source": [
        "# list_tagihan = [50000, 75000, -150000, 125000, 300000, -50000, 200000]\n",
        "# total_tagihan = 0\n",
        "# for tagihan in list_tagihan:\n",
        "#     if tagihan < 0:\n",
        "#         print(\"terdapat angka minus dalam tagihan, perhitungan dihentikan!\")\n",
        "#         break\n",
        "#     total_tagihan += tagihan\n",
        "# print(total_tagihan)\n",
        "\n",
        "list_tagihan = [50000, 75000, -150000, 125000, 300000, -50000, 200000]\n",
        "total_tagihan = 0\n",
        "\n",
        "for tgh in list_tagihan:\n",
        "  if tgh > 0 :\n",
        "    total_tagihan += tgh\n",
        "  else:\n",
        "    total_tagihan = total_tagihan\n",
        "    break\n",
        "print(total_tagihan)"
      ],
      "execution_count": null,
      "outputs": [
        {
          "output_type": "stream",
          "text": [
            "125000\n"
          ],
          "name": "stdout"
        }
      ]
    },
    {
      "cell_type": "code",
      "metadata": {
        "id": "QifBtDZt5XQE",
        "colab_type": "code",
        "colab": {
          "base_uri": "https://localhost:8080/",
          "height": 176
        },
        "outputId": "b26594a0-53da-4cf5-9f0a-709bbe06e99b"
      },
      "source": [
        "#nested loop\n",
        "\n",
        "list_daerah = ['Malang', 'Palembang', 'Medan']\n",
        "list_buah = ['Apel', 'Duku', 'Jeruk']\n",
        "\n",
        "for daerah in list_daerah:\n",
        "  for buah in list_buah:\n",
        "    print(daerah, buah)"
      ],
      "execution_count": null,
      "outputs": [
        {
          "output_type": "stream",
          "text": [
            "Malang Apel\n",
            "Malang Duku\n",
            "Malang Jeruk\n",
            "Palembang Apel\n",
            "Palembang Duku\n",
            "Palembang Jeruk\n",
            "Medan Apel\n",
            "Medan Duku\n",
            "Medan Jeruk\n"
          ],
          "name": "stdout"
        }
      ]
    }
  ]
}
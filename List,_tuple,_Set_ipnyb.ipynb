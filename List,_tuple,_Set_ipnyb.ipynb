{
  "nbformat": 4,
  "nbformat_minor": 0,
  "metadata": {
    "colab": {
      "name": "List, tuple, Set.ipnyb",
      "provenance": [],
      "collapsed_sections": [],
      "authorship_tag": "ABX9TyMSVfkZYyJ11oXg7H+8HH4W",
      "include_colab_link": true
    },
    "kernelspec": {
      "name": "python3",
      "display_name": "Python 3"
    }
  },
  "cells": [
    {
      "cell_type": "markdown",
      "metadata": {
        "id": "view-in-github",
        "colab_type": "text"
      },
      "source": [
        "<a href=\"https://colab.research.google.com/github/DevRichan/Python-for-Data-Science/blob/master/List%2C_tuple%2C_Set_ipnyb.ipynb\" target=\"_parent\"><img src=\"https://colab.research.google.com/assets/colab-badge.svg\" alt=\"Open In Colab\"/></a>"
      ]
    },
    {
      "cell_type": "markdown",
      "metadata": {
        "id": "ldlKdMekcdRC",
        "colab_type": "text"
      },
      "source": [
        "**1. List**\n",
        " - Mutable (dapat di rubah isinya)"
      ]
    },
    {
      "cell_type": "code",
      "metadata": {
        "id": "qArUazhZcbUv",
        "colab_type": "code",
        "colab": {
          "base_uri": "https://localhost:8080/",
          "height": 115
        },
        "outputId": "a5cbecc7-7651-4a2b-b0c0-45e1d5127fd7"
      },
      "source": [
        "myList = [1,2,3,\"maybe\"]\n",
        "print(myList[1])\n",
        "myList[1] = \"uwu\"\n",
        "print(myList[1])\n",
        "\n",
        "# view all\n",
        "idx = 0 \n",
        "for listm in myList:\n",
        "  idx += 1\n",
        "  print(idx,'.',listm) "
      ],
      "execution_count": null,
      "outputs": [
        {
          "output_type": "stream",
          "text": [
            "2\n",
            "uwu\n",
            "1 . 1\n",
            "2 . uwu\n",
            "3 . 3\n",
            "4 . maybe\n"
          ],
          "name": "stdout"
        }
      ]
    },
    {
      "cell_type": "markdown",
      "metadata": {
        "id": "Hg2PZn-6dQ0g",
        "colab_type": "text"
      },
      "source": [
        "**2. Tuple**\n",
        "  - Immutable (tidak dapat dirubah isinya)\n"
      ]
    },
    {
      "cell_type": "code",
      "metadata": {
        "id": "R3y2fLEIdd76",
        "colab_type": "code",
        "colab": {
          "base_uri": "https://localhost:8080/",
          "height": 131
        },
        "outputId": "39be3527-5d3a-4574-8823-f1337edd642b"
      },
      "source": [
        "myTuple = (1,2,3,4,90,'uwu')\n",
        "# myTuple[1] = 3\n",
        "print(myTuple[1])\n",
        "\n",
        "#view all\n",
        "idx = 0\n",
        "for tp in myTuple:\n",
        "  idx += 1 \n",
        "  print(idx, ' . ', tp)\n"
      ],
      "execution_count": null,
      "outputs": [
        {
          "output_type": "stream",
          "text": [
            "2\n",
            "1  .  1\n",
            "2  .  2\n",
            "3  .  3\n",
            "4  .  4\n",
            "5  .  90\n",
            "6  .  uwu\n"
          ],
          "name": "stdout"
        }
      ]
    },
    {
      "cell_type": "markdown",
      "metadata": {
        "id": "dDqyFq3F_KPs",
        "colab_type": "text"
      },
      "source": [
        "**3. Set**\n",
        "- Berbeda dengan tipe data set, tipe data list memperdulikan urutan dari setiap elemen saat list dideklarasikan.\n",
        "- Berbeda dengan list yang mengizinkan adanya duplikasi elemen, tipe data set tidak mengizinkan adanya elemen dengan nilai yang sama di dalamnya. "
      ]
    },
    {
      "cell_type": "code",
      "metadata": {
        "id": "Nl5t7Tql_SbG",
        "colab_type": "code",
        "colab": {
          "base_uri": "https://localhost:8080/",
          "height": 147
        },
        "outputId": "e90fcc23-cd43-468b-cd8a-9e075f826edb"
      },
      "source": [
        "mySet = {1,2,3,4,5,\"six\",\"seven\"}\n",
        "#print(mySet[1]) #notsupport\n",
        "#mySet[1] = 3 #not support\n",
        "print(mySet)\n",
        "index = 0\n",
        "for mset in mySet:\n",
        "  index += 1\n",
        "  print(index,'.',mset)"
      ],
      "execution_count": null,
      "outputs": [
        {
          "output_type": "stream",
          "text": [
            "{1, 2, 3, 4, 5, 'seven', 'six'}\n",
            "1 . 1\n",
            "2 . 2\n",
            "3 . 3\n",
            "4 . 4\n",
            "5 . 5\n",
            "6 . seven\n",
            "7 . six\n"
          ],
          "name": "stdout"
        }
      ]
    }
  ]
}